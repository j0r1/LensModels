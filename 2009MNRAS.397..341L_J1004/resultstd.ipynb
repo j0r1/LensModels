{
 "cells": [
  {
   "cell_type": "code",
   "execution_count": 1,
   "metadata": {},
   "outputs": [],
   "source": [
    "%matplotlib inline"
   ]
  },
  {
   "cell_type": "code",
   "execution_count": 2,
   "metadata": {},
   "outputs": [],
   "source": [
    "import grale.lenses as lenses\n",
    "import grale.cosmology as cosmology\n",
    "import grale.images as images\n",
    "import grale.util as util\n",
    "from grale.constants import *\n",
    "import matplotlib.pyplot as plt\n",
    "import numpy as np\n",
    "\n",
    "V = lambda x, y: np.array([x,y], dtype=np.double)\n",
    "cosm = cosmology.Cosmology(0.71, 0.27, 0, 0.73)\n",
    "cosmology.setDefaultCosmology(cosm)\n",
    "\n",
    "zd = 0.68\n",
    "zs1 = 1.734\n",
    "Ds, Dds = cosm.getAngularDiameterDistance(zs1), cosm.getAngularDiameterDistance(zd, zs1)"
   ]
  },
  {
   "cell_type": "code",
   "execution_count": 3,
   "metadata": {},
   "outputs": [],
   "source": [
    "lens2 = lenses.GravitationalLens.load(\"model2/model.lensdata\")\n",
    "img = images.ImagesData.load(\"model2/src1.imgdata\")\n",
    "\n",
    "# Let's make an input file with only the point with time delay info\n",
    "ptImg = images.ImagesData(img.getNumberOfImages())\n",
    "for i in range(img.getNumberOfTimeDelays()):\n",
    "    imgNum, ptNum, delayDays = img.getTimeDelay(i)\n",
    "    theta = img.getImagePointPosition(imgNum, ptNum)\n",
    "    # Now set it in ptImg\n",
    "    ptNum = ptImg.addPoint(imgNum, theta)\n",
    "    ptImg.addTimeDelayInfo(imgNum, ptNum, delayDays)\n",
    "    \n",
    "del img\n",
    "# Now, 'ptImg' is the one to use"
   ]
  },
  {
   "cell_type": "code",
   "execution_count": 4,
   "metadata": {},
   "outputs": [],
   "source": [
    "def getPredictedTimeDelays(lens, img):\n",
    "    imgPred = util.calculateImagePredictions([{\"imgdata\": img, \"z\":  zs1}], lens, cosm)\n",
    "    imgPred = imgPred[0]\n",
    "    beta_est = imgPred[0][\"beta_est\"][0] # Each point has same beta_est\n",
    "\n",
    "    for i in range(len(imgPred)):\n",
    "        theta_obs = img.getImagePointPosition(i, 0)\n",
    "        theta_pred = img.getImagePointPosition(i, 0)\n",
    "        assert np.array_equal(theta_obs, imgPred[i][\"theta_obs\"])\n",
    "\n",
    "        imgNum, ptNum, tdDays = img.getTimeDelay(i) # This is the order in which we've added time delays\n",
    "        assert imgNum == i and ptNum == 0\n",
    "        imgPred[i][\"delay_obs\"] = tdDays if tdDays >= 0 else None # used negative as a signaling mechanism\n",
    "        imgPred[i][\"delay_pred\"] = lens.getTimeDelay(zd, Ds, Dds, theta_pred, beta_est)[0]/(60*60*24)\n",
    "\n",
    "    minTd = min([p[\"delay_pred\"] for p in imgPred])\n",
    "    for p in imgPred:\n",
    "        p[\"delay_pred\"] -= minTd\n",
    "        \n",
    "    return imgPred"
   ]
  },
  {
   "cell_type": "code",
   "execution_count": 5,
   "metadata": {},
   "outputs": [
    {
     "data": {
      "text/plain": [
       "[{'theta_obs': array([ 4.12192470e-05, -5.29547439e-06]),\n",
       "  'theta_pred': [array([ 4.12201379e-05, -5.29023638e-06])],\n",
       "  'beta_est': [array([ 1.31692673e-06, -9.41815578e-07])],\n",
       "  'delay_obs': 781.0,\n",
       "  'delay_pred': 774.2789216942001},\n",
       " {'theta_obs': array([ 3.48342508e-05, -2.24190936e-05]),\n",
       "  'theta_pred': [array([ 3.48417008e-05, -2.24022846e-05])],\n",
       "  'beta_est': [array([ 1.31692673e-06, -9.41815578e-07])],\n",
       "  'delay_obs': 821.6,\n",
       "  'delay_pred': 814.6961675259736},\n",
       " {'theta_obs': array([-5.77897907e-08, -1.03119870e-07]),\n",
       "  'theta_pred': [array([-5.65471242e-08, -1.00713484e-07])],\n",
       "  'beta_est': [array([ 1.31692673e-06, -9.41815578e-07])],\n",
       "  'delay_obs': None,\n",
       "  'delay_pred': 2693.145142357538},\n",
       " {'theta_obs': array([-5.88525023e-06,  2.46417704e-05]),\n",
       "  'theta_pred': [array([-5.90431230e-06,  2.46390714e-05])],\n",
       "  'beta_est': [array([ 1.31692673e-06, -9.41815578e-07])],\n",
       "  'delay_obs': None,\n",
       "  'delay_pred': 2133.956393244698},\n",
       " {'theta_obs': array([-1.86843314e-05, -4.41969241e-05]),\n",
       "  'theta_pred': [array([-1.86829788e-05, -4.42010583e-05])],\n",
       "  'beta_est': [array([ 1.31692673e-06, -9.41815578e-07])],\n",
       "  'delay_obs': 0.0,\n",
       "  'delay_pred': 0.0}]"
      ]
     },
     "execution_count": 5,
     "metadata": {},
     "output_type": "execute_result"
    }
   ],
   "source": [
    "# For the average model:\n",
    "avgPred = getPredictedTimeDelays(lens2, ptImg)\n",
    "# To see what this looks like\n",
    "avgPred"
   ]
  },
  {
   "cell_type": "code",
   "execution_count": 6,
   "metadata": {},
   "outputs": [
    {
     "data": {
      "image/png": "[encoded data removed]",
      "text/plain": [
       "<Figure size 432x288 with 1 Axes>"
      ]
     },
     "metadata": {
      "needs_background": "light"
     },
     "output_type": "display_data"
    }
   ],
   "source": [
    "# Map the positions in the array to image names, according to e.g.\n",
    "# https://ui.adsabs.harvard.edu/abs/2007ApJ...662...62F/abstract\n",
    "\n",
    "indexMap = { \n",
    "    0: 'B', \n",
    "    1: 'A', \n",
    "    2: '?', \n",
    "    3: 'D', \n",
    "    4: 'C'}\n",
    "\n",
    "for i in range(len(avgPred)):\n",
    "    d = avgPred[i]\n",
    "    theta = d[\"theta_obs\"]/ANGLE_ARCSEC\n",
    "    plt.plot([theta[0]], [theta[1]], 'o', label=f\"{i}\")\n",
    "    plt.annotate(indexMap[i], theta + V(-.5,.1))\n",
    "plt.gca().invert_xaxis()\n",
    "#plt.legend()\n",
    "plt.gca().set_aspect(\"equal\")"
   ]
  },
  {
   "cell_type": "code",
   "execution_count": 7,
   "metadata": {},
   "outputs": [],
   "source": [
    "# Get the individual reconstructions on which the average lens is bases\n",
    "subLenses = [ p[\"lens\"] for p in lens2.getLensParameters() ]"
   ]
  },
  {
   "cell_type": "code",
   "execution_count": 8,
   "metadata": {},
   "outputs": [],
   "source": [
    "delays = { \n",
    "    # These are the image point pairs for which we have observations (based on the order above)\n",
    "    (0,1): [],\n",
    "    (4,0): [],\n",
    "    (4,1): [],\n",
    "    # No observations for these\n",
    "    (4,3): [],\n",
    "    (1,3): [],\n",
    "}\n",
    "# Calculate the time delay predictions for each sublens and store it\n",
    "for l in subLenses:\n",
    "    pred = getPredictedTimeDelays(l, ptImg)\n",
    "    for key in delays:\n",
    "        i0, i1 = key\n",
    "        delays[key].append(pred[i1][\"delay_pred\"] - pred[i0][\"delay_pred\"])"
   ]
  },
  {
   "cell_type": "code",
   "execution_count": 9,
   "metadata": {
    "scrolled": true
   },
   "outputs": [
    {
     "data": {
      "image/png": "[encoded data removed]",
      "text/plain": [
       "<Figure size 1080x360 with 3 Axes>"
      ]
     },
     "metadata": {
      "needs_background": "light"
     },
     "output_type": "display_data"
    }
   ],
   "source": [
    "# Create some histograms\n",
    "plt.figure(figsize=(15,5))\n",
    "plt.subplot(1,3,1)\n",
    "plt.hist(delays[(0,1)])\n",
    "plt.title(\"Delay between \" + indexMap[0] + \" and \" + indexMap[1])\n",
    "plt.gca().set_xlabel(\"Delay (days)\")\n",
    "plt.subplot(1,3,2)\n",
    "plt.hist(delays[(4,0)])\n",
    "plt.title(\"Delay between \" + indexMap[4] + \" and \" + indexMap[0])\n",
    "plt.gca().set_xlabel(\"Delay (days)\")\n",
    "plt.subplot(1,3,3)\n",
    "plt.hist(delays[(4,1)])\n",
    "plt.title(\"Delay between \" + indexMap[4] + \" and \" + indexMap[1])\n",
    "plt.gca().set_xlabel(\"Delay (days)\");"
   ]
  },
  {
   "cell_type": "code",
   "execution_count": 10,
   "metadata": {},
   "outputs": [
    {
     "name": "stdout",
     "output_type": "stream",
     "text": [
      "Time delay between A and D\n",
      "  Predicted from avg lens: 1319.260\n",
      "  From sublenses:          1319.260 +/- 163.292\n",
      "\n",
      "Time delay between C and D\n",
      "  Predicted from avg lens: 2133.956\n",
      "  From sublenses:          2133.956 +/- 164.096\n",
      "\n"
     ]
    }
   ],
   "source": [
    "# These were not observed at the time of writing the article, but the CD delay has\n",
    "# now been reported in https://iopscience.iop.org/article/10.3847/1538-4357/ac8877\n",
    "# to be 2458.47 ± 1.02 days.\n",
    "\n",
    "for pair in [ (1,3), (4, 3) ]:\n",
    "    pos0 = avgPred[pair[0]][\"theta_obs\"]/ANGLE_ARCSEC\n",
    "    pos1 = avgPred[pair[1]][\"theta_obs\"]/ANGLE_ARCSEC\n",
    "    print(\"Time delay between\", indexMap[pair[0]], \"and\", indexMap[pair[1]])\n",
    "    \n",
    "    avg, std = np.average(delays[pair]), np.std(delays[pair])\n",
    "    delayFromAvgModel = avgPred[pair[1]][\"delay_pred\"] - avgPred[pair[0]][\"delay_pred\"]\n",
    "        \n",
    "    print(\"  Predicted from avg lens: {:.3f}\".format(delayFromAvgModel))\n",
    "    print(\"  From sublenses:          {:.3f} +/- {:.3f}\".format(avg, std))\n",
    "    print()"
   ]
  }
 ],
 "metadata": {
  "kernelspec": {
   "display_name": "Python 3 (ipykernel)",
   "language": "python",
   "name": "python3"
  },
  "language_info": {
   "codemirror_mode": {
    "name": "ipython",
    "version": 3
   },
   "file_extension": ".py",
   "mimetype": "text/x-python",
   "name": "python",
   "nbconvert_exporter": "python",
   "pygments_lexer": "ipython3",
   "version": "3.8.10"
  }
 },
 "nbformat": 4,
 "nbformat_minor": 2
}
